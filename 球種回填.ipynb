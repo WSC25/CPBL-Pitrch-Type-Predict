{
 "cells": [
  {
   "cell_type": "code",
   "execution_count": 1,
   "id": "b89edea3",
   "metadata": {},
   "outputs": [],
   "source": [
    "import pandas as pd\n",
    "excel_file_path1 = 'C:/Users/ASUS/OneDrive/Documents/中信兄弟/Trackman/2018_trackman.xlsx'\n",
    "excel_file_path2 = 'C:/Users/ASUS/OneDrive/Documents/中信兄弟/Trackman/2019_trackman.xlsx'\n",
    "excel_file_path3 = 'C:/Users/ASUS/OneDrive/Documents/中信兄弟/Trackman/2020_trackman.xlsx'\n",
    "sheet_name = 'Sheet1'\n",
    "#test = pd.read_excel(excel_file_path1, sheet_name=sheet_name)"
   ]
  },
  {
   "cell_type": "code",
   "execution_count": 2,
   "id": "7e16fb28",
   "metadata": {},
   "outputs": [],
   "source": [
    "track_2018 = pd.read_excel(excel_file_path1, sheet_name=sheet_name)\n",
    "track_2019 = pd.read_excel(excel_file_path2, sheet_name=sheet_name)\n",
    "track_2020 = pd.read_excel(excel_file_path3, sheet_name=sheet_name)"
   ]
  },
  {
   "cell_type": "code",
   "execution_count": 3,
   "id": "8cff8efb",
   "metadata": {},
   "outputs": [],
   "source": [
    "data1 = pd.concat([track_2019, track_2018], ignore_index=True)\n",
    "test = pd.concat([data1, track_2020], ignore_index=True)"
   ]
  },
  {
   "cell_type": "code",
   "execution_count": 4,
   "id": "a03b45f7",
   "metadata": {},
   "outputs": [],
   "source": [
    "#col=['RelSpeed','VertRelAngle','HorzRelAngle','SpinRate','SpinAxis','RelHeight',\n",
    "  #  'RelSide','Extension','VertBreak','InducedVertBreak','HorzBreak','PlateLocHeight','PlateLocSide','ZoneSpeed','VertApprAngle',\n",
    "   # 'HorzApprAngle']"
   ]
  },
  {
   "cell_type": "code",
   "execution_count": 5,
   "id": "cff11f26",
   "metadata": {},
   "outputs": [],
   "source": [
    "new_data = test[col]"
   ]
  },
  {
   "cell_type": "code",
   "execution_count": 6,
   "id": "97d69c6a",
   "metadata": {},
   "outputs": [
    {
     "data": {
      "text/plain": [
       "array(['Fastball', 'Fastball', 'Fastball', ..., 'Curveball', 'Curveball',\n",
       "       'Curveball'], dtype=object)"
      ]
     },
     "execution_count": 6,
     "metadata": {},
     "output_type": "execute_result"
    }
   ],
   "source": [
    "from joblib import load\n",
    "\n",
    "rfc_loaded = load('random_forest_model.pkl')\n",
    "\n",
    "#new_data = pd.read_excel('test.xlsx')\n",
    "\n",
    "predictions = rfc_loaded.predict(test)\n",
    "predictions"
   ]
  },
  {
   "cell_type": "code",
   "execution_count": 7,
   "id": "1e67d09f",
   "metadata": {},
   "outputs": [],
   "source": [
    "test['球種'] = predictions\n",
    "\n",
    "test.to_excel('predicted_test(2018~2020).xlsx', index=False)"
   ]
  },
  {
   "cell_type": "code",
   "execution_count": null,
   "id": "32d71f17",
   "metadata": {},
   "outputs": [],
   "source": []
  }
 ],
 "metadata": {
  "kernelspec": {
   "display_name": "Python 3 (ipykernel)",
   "language": "python",
   "name": "python3"
  },
  "language_info": {
   "codemirror_mode": {
    "name": "ipython",
    "version": 3
   },
   "file_extension": ".py",
   "mimetype": "text/x-python",
   "name": "python",
   "nbconvert_exporter": "python",
   "pygments_lexer": "ipython3",
   "version": "3.11.4"
  }
 },
 "nbformat": 4,
 "nbformat_minor": 5
}
